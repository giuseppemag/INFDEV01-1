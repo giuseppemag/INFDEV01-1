{
 "cells": [
  {
   "cell_type": "markdown",
   "metadata": {},
   "source": [
    "# INFDEV02-1 (Development 1, 2018-19)"
   ]
  },
  {
   "cell_type": "markdown",
   "metadata": {},
   "source": [
    "## Introduction\n",
    "This is the course descriptor for the _Development 1_ course.\n",
    "\n",
    "Development 1 covers a basic introduction to computational concepts needed to learn programming languages in general. The course opens with a description of computations as transitions in a state machine, defining what _state_ means and what for operations can be performed on it; the course then moves on to defining statements and expressions, their basic syntax, and their semantics as manipulation of the state that also alters the current program in order to store progress in the program itself.\n",
    "\n",
    "An important reminder: the course (and the whole Informatica degree of Hogeschool Rotterdam as well, for that matter) is not meant to provide students with a series of tips and tricks to be quickly successful at one's job. Rather, the course aims to build a solid foundation upon which learning of all sorts of programming languages will be based. This *will*, without a doubt, prepare students not only for their first professional tasks, but for all their evolutions. Moreover, understanding of these concepts will allow students to wield their professional tools (programming languages) with certainty instead of intuition, thereby greatly increasing the quality of what they deliver and their value on the job market."
   ]
  },
  {
   "cell_type": "markdown",
   "metadata": {},
   "source": [
    "### Learning goals\n",
    "The course has the following learning goals:\n",
    "- (ICODE) students can _recognize and formally interpret_ components of a programming language: statements and expressions, state, transitions, and the denotational definition of semantics;\n",
    "- (ECODE) students _understand code_; _understand_ here means that students can describe the effect of running the program by predicting the sequence of state transitions produced by its execution;\n",
    "- (WCODE) students can _write small snippets of code_ in order to complete an existing program, from a clearly given specification of the state transitions that the completed program is expected to perform.\n",
    "\n",
    "The course, and therefore also the learning goals, are limited to simple imperative programs and the following Python 3 keywords and operators: \n",
    "- `if/elif/else`\n",
    "- `while`\n",
    "- `=, +, -, /, //, * (NOT ALLOWED FOR MULTIPLYING STRINGS), %` \n",
    "- `>, >=, <, <=, ==, !=`\n",
    "- `or, and, not`\n",
    "- `int(), float(), str()`\n",
    "- `input()`\n",
    "- `print()`\n",
    "\n",
    "The corresponding competences connected to these learning goals are: \n",
    "- realisation.\n",
    "\n",
    "### Learning materials\n",
    "\n",
    "The mandatory learning materials are:\n",
    "- reader of the lectures;\n",
    "- materials on the Github repository (github.com/hogeschool);\n",
    "- materials on GrandeOmega."
   ]
  },
  {
   "cell_type": "markdown",
   "metadata": {},
   "source": [
    "### Exam\n",
    "The exam is divided in two parts:\n",
    "#### Theory\n",
    "- (FA) a series of four (4) *forward assignments*, that is exercises where students, given full code and partial state transitions produced by the code, are requested to complete the missing state transitions the code will produce;\n",
    "- (MC) a series of eight (8) *multiple choice* questions on the formal interpretation of state transitions induced by statements, expression evaluation, and state manipulation.\n",
    "\n",
    "#### Practice\n",
    "- (BA) a series of five (5) *backward assignments*, that is exercises where students, given partial code and the desired state transitions, are requested to fill in the missing code that matches the given state transitions.\n",
    "\n",
    "#### Scoring\n",
    "See Osiris for the scoring."
   ]
  },
  {
   "cell_type": "markdown",
   "metadata": {},
   "source": [
    "## Lecture plan\n",
    "The course is made up of seven lectures and practicums, usually planned as one lecture and one practicum per lesson week (for details, see lesson schedule on HINT). \n",
    "The lectures begin with an introduction of the basic concepts, which are then elaborated during the practicums. The lectures handle the theory, plus applied examples. Some of the applied examples are then further elaborated during the practicums.\n",
    "\n",
    "The lesson units covered by the course are the following:\n",
    "- What is computing?\n",
    "- States, lookup, and replacement\n",
    "- Statements and denotational semantics\n",
    "- Expressions on integers\n",
    "- Other primitive datatypes\n",
    "- Conditionals and loops\n",
    "- Performance and readability of equivalent programs\n",
    "- Introduction to Python\n",
    "- Python workshop\n",
    "- Imperative vs declarative program design\n",
    "\n",
    "Note that each lesson unit does not necessarily correspond to one lesson week (for example, one lesson unit could span during two lesson weeks or two lesson units could be handled during one lesson week)."
   ]
  },
  {
   "cell_type": "markdown",
   "metadata": {},
   "source": [
    "## Study points and contact time\n",
    "The course awards students 4 ECTS, in correspondence with 112 hours of study.\n",
    "\n",
    "The course consists of the aforementioned frontal lectures for the theory, and the assisted practicums. The rest is self-study.\n",
    "\n",
    "Before the end of the sixth week (12-10-2018) at least 75% of all exercises of practicums 1 to 5 must be completed and correct. This includes the multiple choice questions, forward assignments and backward assignments, but this does not include the written exercises.\n",
    "Students who fail to meet this criterion will receive a warning. The SLCs of these students will also be notified."
   ]
  }
 ],
 "metadata": {
  "kernelspec": {
   "display_name": "Python 3",
   "language": "python",
   "name": "python3"
  },
  "language_info": {
   "codemirror_mode": {
    "name": "ipython",
    "version": 3
   },
   "file_extension": ".py",
   "mimetype": "text/x-python",
   "name": "python",
   "nbconvert_exporter": "python",
   "pygments_lexer": "ipython3",
   "version": "3.6.6"
  }
 },
 "nbformat": 4,
 "nbformat_minor": 1
}
